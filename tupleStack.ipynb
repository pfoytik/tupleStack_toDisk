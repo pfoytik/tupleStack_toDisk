{
 "cells": [
  {
   "cell_type": "code",
   "execution_count": 599,
   "id": "constant-sunglasses",
   "metadata": {},
   "outputs": [],
   "source": [
    "import os\n",
    "import array\n",
    "import subprocess\n",
    "from file_read_backwards import FileReadBackwards\n",
    "\n",
    "# no more than 100 million items in memory at a time\n",
    "MAXINMEM = int(5)\n",
    "\n",
    "class bigarray(object):\n",
    "    def __init__(self):\n",
    "        self.f = open('afile.dat', 'w+')\n",
    "        self.a = []#array.array('L')\n",
    "        self.index = 0\n",
    "        self.pointer = 0\n",
    "    def append(self, n):\n",
    "        self.f = open('afile.dat', 'w+')\n",
    "        print(len(self.a))\n",
    "        self.a.append(n)\n",
    "        for t in self.a:\n",
    "            self.f.write(' '.join(str(s) for s in t) + '\\n') \n",
    "        self.f.close()\n",
    "    def pop(self):\n",
    "        self.a = []\n",
    "        with FileReadBackwards(\"afile.dat\", encoding=\"utf-8\") as frb:\n",
    "            for i in range(0, MAXINMEM):\n",
    "                self.a.append(frb.readline())\n",
    "                print(self.a)       \n",
    "        for i in range(0, MAXINMEM):\n",
    "            subprocess.call([\"sed -i '$d' afile.dat\"], shell=True)\n",
    "        return self.a\n",
    "    def popLeft(self):\n",
    "        self.a = []\n",
    "        with open(\"afile.dat\", encoding=\"utf-8\") as frb:\n",
    "            for i in range(0, MAXINMEM):\n",
    "                self.a.append(frb.readline())\n",
    "                print(self.a)       \n",
    "        returnval = self.a\n",
    "        for i in range(0, MAXINMEM):\n",
    "            subprocess.call([\"sed -i '1d' afile.dat\"], shell=True)\n",
    "        #self.pointer = (self.a.itemsize*MAXINMEM) + self.pointer\n",
    "        return returnval"
   ]
  },
  {
   "cell_type": "code",
   "execution_count": 600,
   "id": "classified-shower",
   "metadata": {},
   "outputs": [],
   "source": [
    "basicArr = [[1,[1,1],1], [2,[2,2],2], [3,[3,3],3], [4,[4,4],4], [5,[5,5],5]]\n",
    "biggy = bigarray()"
   ]
  },
  {
   "cell_type": "code",
   "execution_count": 601,
   "id": "behind-salem",
   "metadata": {},
   "outputs": [
    {
     "name": "stdout",
     "output_type": "stream",
     "text": [
      "0\n",
      "1\n",
      "2\n",
      "3\n",
      "4\n"
     ]
    }
   ],
   "source": [
    "for ba in basicArr:\n",
    "    biggy.append(ba)"
   ]
  },
  {
   "cell_type": "code",
   "execution_count": 602,
   "id": "minute-dream",
   "metadata": {},
   "outputs": [
    {
     "name": "stdout",
     "output_type": "stream",
     "text": [
      "5\n",
      "6\n",
      "7\n",
      "8\n",
      "9\n"
     ]
    }
   ],
   "source": [
    "anotherArr = [[6,[6,6],6], [7,[7,7],7], [8,[8,8],8], [9,[9,9],9], [10,[10,10],10]]\n",
    "for aa in anotherArr:\n",
    "    biggy.append(aa)"
   ]
  },
  {
   "cell_type": "code",
   "execution_count": 584,
   "id": "connected-nation",
   "metadata": {},
   "outputs": [
    {
     "name": "stdout",
     "output_type": "stream",
     "text": [
      "['10 [10, 10] 10\\n']\n",
      "['10 [10, 10] 10\\n', '9 [9, 9] 9\\n']\n",
      "['10 [10, 10] 10\\n', '9 [9, 9] 9\\n']\n"
     ]
    }
   ],
   "source": [
    "print(biggy.pop())"
   ]
  },
  {
   "cell_type": "code",
   "execution_count": 585,
   "id": "spatial-complaint",
   "metadata": {},
   "outputs": [
    {
     "name": "stdout",
     "output_type": "stream",
     "text": [
      "['8 [8, 8] 8\\n']\n",
      "['8 [8, 8] 8\\n', '7 [7, 7] 7\\n']\n",
      "['8 [8, 8] 8\\n', '7 [7, 7] 7\\n']\n"
     ]
    }
   ],
   "source": [
    "print(biggy.pop())"
   ]
  },
  {
   "cell_type": "code",
   "execution_count": 586,
   "id": "black-manner",
   "metadata": {},
   "outputs": [
    {
     "name": "stdout",
     "output_type": "stream",
     "text": [
      "['1 [1, 1] 1\\n']\n",
      "['1 [1, 1] 1\\n', '2 [2, 2] 2\\n']\n",
      "['1 [1, 1] 1\\n', '2 [2, 2] 2\\n']\n"
     ]
    }
   ],
   "source": [
    "print(biggy.popLeft())"
   ]
  },
  {
   "cell_type": "code",
   "execution_count": 587,
   "id": "plain-directory",
   "metadata": {},
   "outputs": [
    {
     "name": "stdout",
     "output_type": "stream",
     "text": [
      "['3 [3, 3] 3\\n']\n",
      "['3 [3, 3] 3\\n', '4 [4, 4] 4\\n']\n",
      "['3 [3, 3] 3\\n', '4 [4, 4] 4\\n']\n"
     ]
    }
   ],
   "source": [
    "print(biggy.popLeft())"
   ]
  },
  {
   "cell_type": "code",
   "execution_count": 603,
   "id": "abandoned-measurement",
   "metadata": {},
   "outputs": [
    {
     "name": "stdout",
     "output_type": "stream",
     "text": [
      "['10 [10, 10] 10\\n']\n",
      "['10 [10, 10] 10\\n', '9 [9, 9] 9\\n']\n",
      "['10 [10, 10] 10\\n', '9 [9, 9] 9\\n', '8 [8, 8] 8\\n']\n",
      "['10 [10, 10] 10\\n', '9 [9, 9] 9\\n', '8 [8, 8] 8\\n', '7 [7, 7] 7\\n']\n",
      "['10 [10, 10] 10\\n', '9 [9, 9] 9\\n', '8 [8, 8] 8\\n', '7 [7, 7] 7\\n', '6 [6, 6] 6\\n']\n"
     ]
    }
   ],
   "source": [
    "x = biggy.pop()"
   ]
  },
  {
   "cell_type": "code",
   "execution_count": 622,
   "id": "sophisticated-reservation",
   "metadata": {},
   "outputs": [
    {
     "name": "stdout",
     "output_type": "stream",
     "text": [
      "[10, [10, 10], 10]\n"
     ]
    }
   ],
   "source": [
    "items = x[0].split('\\n')\n",
    "items = items[0].split(' ')\n",
    "\n",
    "rest = []\n",
    "tmp = []\n",
    "\n",
    "#print(items[0])\n",
    "rest.append(int(items[0]))\n",
    "\n",
    "#print(items[1].split('[')[1].split(',')[0])\n",
    "tmp.append(int(items[1].split('[')[1].split(',')[0]))\n",
    "#print(items[2].split(']')[0])\n",
    "tmp.append(int(items[2].split(']')[0]))\n",
    "rest.append(tmp)\n",
    "\n",
    "#print(items[3])\n",
    "rest.append(int(items[3]))\n",
    "print(rest)"
   ]
  },
  {
   "cell_type": "code",
   "execution_count": 639,
   "id": "infectious-modification",
   "metadata": {},
   "outputs": [],
   "source": [
    "def convTuple(items):\n",
    "    rest = []    \n",
    "    tmp = []\n",
    "    internal = False\n",
    "\n",
    "    for i in items:\n",
    "        #print(i)        \n",
    "        if '[' in i:        \n",
    "            internal = True\n",
    "            item = int(i.split('[')[1].split(',')[0])            \n",
    "            tmp.append(item)\n",
    "        elif ']' in i:\n",
    "            internal = False\n",
    "            item = int(i.split(']')[0])            \n",
    "            tmp.append(item)\n",
    "            rest.append(tmp)\n",
    "        else:\n",
    "            if internal:\n",
    "                tmp.append(int(i))\n",
    "            else:\n",
    "                #print(i)\n",
    "                rest.append(int(i))                            \n",
    "    return rest"
   ]
  },
  {
   "cell_type": "code",
   "execution_count": 641,
   "id": "virgin-cursor",
   "metadata": {},
   "outputs": [
    {
     "name": "stdout",
     "output_type": "stream",
     "text": [
      "10 [10, 10] 10\n",
      "\n",
      "[10, [10, 10], 10]\n"
     ]
    }
   ],
   "source": [
    "print(x[0])\n",
    "items = x[0].split('\\n')\n",
    "items = items[0].split(' ')\n",
    "\n",
    "ct = convTuple(items)\n",
    "print(ct)"
   ]
  },
  {
   "cell_type": "code",
   "execution_count": null,
   "id": "intensive-sheffield",
   "metadata": {},
   "outputs": [],
   "source": []
  }
 ],
 "metadata": {
  "kernelspec": {
   "display_name": "Python 3",
   "language": "python",
   "name": "python3"
  },
  "language_info": {
   "codemirror_mode": {
    "name": "ipython",
    "version": 3
   },
   "file_extension": ".py",
   "mimetype": "text/x-python",
   "name": "python",
   "nbconvert_exporter": "python",
   "pygments_lexer": "ipython3",
   "version": "3.7.6"
  }
 },
 "nbformat": 4,
 "nbformat_minor": 5
}
